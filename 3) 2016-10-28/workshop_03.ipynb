{
 "cells": [
  {
   "cell_type": "markdown",
   "metadata": {
    "collapsed": false
   },
   "source": [
    "![Link alla foto:](http://www.scaleamilano.it/style/images/art/scala-a-giorno-1.jpg)"
   ]
  },
  {
   "cell_type": "code",
   "execution_count": 1,
   "metadata": {
    "collapsed": false
   },
   "outputs": [
    {
     "name": "stdout",
     "output_type": "stream",
     "text": [
      "Evaluating fenvs.py..\n",
      "...fenvs.py imported in 0.005396 seconds\n"
     ]
    }
   ],
   "source": [
    "from pyplasm import*\n",
    "from math import*\n",
    "\n",
    "def ggpl_myStair(x,y,z):\n",
    "    soglia = 0.15/0.3\n",
    "    if float(z)/float(y) >= soglia+1.6:\n",
    "        z = input(\"l'altezza e troppo grande reinseriscila\")\n",
    "    if float(z)/float(y) <= soglia-0.4:\n",
    "        y = input(\"la profondita e troppo grande reinseriscila\")\n",
    "    nScalini = int(z/0.15)\n",
    "    profScalino = float(y)/nScalini\n",
    "    altezzaScalino = float(z)/nScalini\n",
    "    \n",
    "    scalino = MKPOL([[[0,0,0],[0,0,altezzaScalino],[0,profScalino,0],[0,profScalino*2,altezzaScalino],[x,0,0],[x,0,altezzaScalino],[x,profScalino,0],[x,profScalino*2,altezzaScalino]],[[1,2,3,4,5,6,7,8]],1])\n",
    "    \n",
    "    c = profScalino-(1/2)*altezzaScalino\n",
    "    scalino2 = CUBOID([x,profScalino,altezzaScalino/2])\n",
    "    nearScalino = MKPOL([[[0,0,0],[0,0,1.5*altezzaScalino],[0,c,1.5*altezzaScalino],[0,0.5*altezzaScalino,0],[0,0.5*altezzaScalino,altezzaScalino],[0,c,altezzaScalino],[0.05,0,0],[0.05,0,1.5*altezzaScalino],[0.05,c,1.5*altezzaScalino],[0.05,0.5*altezzaScalino,0],[0.05,0.5*altezzaScalino,altezzaScalino],[0.05,c,altezzaScalino]],[[1,2,4,5,7,8,10,11],[2,3,5,6,8,9,11,12]],1])\n",
    "    stair = QUOTE([0])\n",
    "    nearScalini = QUOTE([0])\n",
    "    distY=0\n",
    "    distZ=0\n",
    "    for i in range(nScalini):\n",
    "        nearScalini = STRUCT([nearScalini,T([2,3])([distY,distZ])(nearScalino)])\n",
    "        #stair = STRUCT([stair,T([2,3])([distY,distZ])(scalino)])\n",
    "        stair = STRUCT([stair,T([2,3])([distY,distZ])(scalino2)])\n",
    "        distY = distY + profScalino\n",
    "        distZ = distZ + altezzaScalino\n",
    "    #endScalino=CUBOID([x,profScalino,altezzaScalino])\n",
    "    #stair = STRUCT([stair,T([2,3])([distY,distZ])(endScalino)])\n",
    "    \n",
    "    stair = COLOR(YELLOW)(stair)\n",
    "    stair = STRUCT([nearScalini,T([1,3])([0.005,altezzaScalino])(stair),T(1)(x+0.005)(nearScalini)])\n",
    "    \n",
    "    wall = CUBOID([0.2,y,z+altezzaScalino/2])\n",
    "    wall = COLOR(BROWN)(wall)\n",
    "    stair = STRUCT([wall,T(1)(0.2)(stair)])\n",
    "    return stair"
   ]
  },
  {
   "cell_type": "code",
   "execution_count": 2,
   "metadata": {
    "collapsed": false
   },
   "outputs": [
    {
     "data": {
      "text/plain": [
       "<pyplasm.xgepy.Hpc; proxy of <Swig Object of type 'std::shared_ptr< Hpc > *' at 0x107d2af60> >"
      ]
     },
     "execution_count": 2,
     "metadata": {},
     "output_type": "execute_result"
    }
   ],
   "source": [
    "VIEW(ggpl_myStair(2,3,2))"
   ]
  }
 ],
 "metadata": {
  "anaconda-cloud": {},
  "kernelspec": {
   "display_name": "Python [default]",
   "language": "python",
   "name": "python2"
  },
  "language_info": {
   "codemirror_mode": {
    "name": "ipython",
    "version": 2
   },
   "file_extension": ".py",
   "mimetype": "text/x-python",
   "name": "python",
   "nbconvert_exporter": "python",
   "pygments_lexer": "ipython2",
   "version": "2.7.12"
  }
 },
 "nbformat": 4,
 "nbformat_minor": 1
}
