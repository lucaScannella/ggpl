{
 "cells": [
  {
   "cell_type": "markdown",
   "metadata": {},
   "source": [
    "Link all'immagine:\n",
    "*\t[_Strutture in cemento armato_](http://files.spazioweb.it/aruba57278/image/telaio.jpg)"
   ]
  },
  {
   "cell_type": "code",
   "execution_count": 1,
   "metadata": {
    "collapsed": false
   },
   "outputs": [
    {
     "name": "stdout",
     "output_type": "stream",
     "text": [
      "Evaluating fenvs.py..\n",
      "...fenvs.py imported in 0.005362 seconds\n"
     ]
    }
   ],
   "source": [
    "from pyplasm import*\n",
    "import csv\n",
    "from workshop_01 import*"
   ]
  },
  {
   "cell_type": "code",
   "execution_count": 2,
   "metadata": {
    "collapsed": false
   },
   "outputs": [],
   "source": [
    "def floatFromString(lista):\n",
    "    newList=[]\n",
    "    for l in lista:\n",
    "        newL=float(l)\n",
    "        newList.append(newL)\n",
    "    return newList"
   ]
  },
  {
   "cell_type": "code",
   "execution_count": 3,
   "metadata": {
    "collapsed": true
   },
   "outputs": [],
   "source": [
    "def ggpl_bone_structure(file_name):\n",
    "    building = QUOTE([0])\n",
    "    with open(file_name,'r') as csvFile:\n",
    "        reader = csv.DictReader(csvFile)\n",
    "        for row in reader:\n",
    "            riga = row['telaio']\n",
    "            l = riga.split(';')\n",
    "            \n",
    "            vet = floatFromString(l[0].split(','))\n",
    "            sez = floatFromString(l[1].split(','))\n",
    "            dist = floatFromString(l[2].split(','))\n",
    "            h = floatFromString(l[3].split(','))\n",
    "            \n",
    "            telaio = fun(sez[0],sez[1],sez[2],sez[3],dist,h)\n",
    "            building = STRUCT([building,T([1,2,3])([vet[0],vet[1],vet[2]])(telaio)])\n",
    "    return building"
   ]
  },
  {
   "cell_type": "code",
   "execution_count": 4,
   "metadata": {
    "collapsed": false
   },
   "outputs": [
    {
     "data": {
      "text/plain": [
       "<pyplasm.xgepy.Hpc; proxy of <Swig Object of type 'std::shared_ptr< Hpc > *' at 0x10741e780> >"
      ]
     },
     "execution_count": 4,
     "metadata": {},
     "output_type": "execute_result"
    }
   ],
   "source": [
    "VIEW(ggpl_bone_structure(\"frame_data_440841.csv\"))"
   ]
  }
 ],
 "metadata": {
  "anaconda-cloud": {},
  "kernelspec": {
   "display_name": "Python [conda root]",
   "language": "python",
   "name": "conda-root-py"
  },
  "language_info": {
   "codemirror_mode": {
    "name": "ipython",
    "version": 2
   },
   "file_extension": ".py",
   "mimetype": "text/x-python",
   "name": "python",
   "nbconvert_exporter": "python",
   "pygments_lexer": "ipython2",
   "version": "2.7.12"
  }
 },
 "nbformat": 4,
 "nbformat_minor": 1
}
